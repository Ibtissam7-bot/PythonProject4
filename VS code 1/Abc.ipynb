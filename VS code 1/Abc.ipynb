{
 "cells": [
  {
   "cell_type": "code",
   "execution_count": 26,
   "id": "ec83ab1a",
   "metadata": {},
   "outputs": [],
   "source": [
    "import numpy as np\n",
    "import pandas as pd"
   ]
  },
  {
   "cell_type": "code",
   "execution_count": 48,
   "id": "e2841e4c",
   "metadata": {},
   "outputs": [
    {
     "name": "stdout",
     "output_type": "stream",
     "text": [
      "       Nom   Age   Ville\n",
      "0    Amine  28.0    Casa\n",
      "1     Lina  22.0   Rabat\n",
      "2  Youssef  35.0     Fès\n",
      "3    Salma  30.0    Casa\n",
      "4     Nora   NaN  Tanger\n",
      "       Nom   Age   Ville\n",
      "0    Amine  28.0    Casa\n",
      "1     Lina  22.0   Rabat\n",
      "2  Youssef  35.0     Fès\n",
      "3    Salma  30.0    Casa\n",
      "4     Nora   NaN  Tanger\n",
      "<class 'pandas.core.frame.DataFrame'>\n",
      "RangeIndex: 5 entries, 0 to 4\n",
      "Data columns (total 3 columns):\n",
      " #   Column  Non-Null Count  Dtype  \n",
      "---  ------  --------------  -----  \n",
      " 0   Nom     5 non-null      object \n",
      " 1   Age     4 non-null      float64\n",
      " 2   Ville   5 non-null      object \n",
      "dtypes: float64(1), object(2)\n",
      "memory usage: 252.0+ bytes\n",
      "None\n",
      "             Age\n",
      "count   4.000000\n",
      "mean   28.750000\n",
      "std     5.377422\n",
      "min    22.000000\n",
      "25%    26.500000\n",
      "50%    29.000000\n",
      "75%    31.250000\n",
      "max    35.000000\n"
     ]
    }
   ],
   "source": [
    "df= pd.DataFrame({'Nom':['Amine','Lina','Youssef','Salma','Nora'],'Age':[28,22,35,30,np.nan],'Ville':['Casa','Rabat','Fès','Casa','Tanger']})\n",
    "print(df)\n",
    "print(df.head(5))\n",
    "print(df.info())\n",
    "print(df.describe())"
   ]
  },
  {
   "cell_type": "code",
   "execution_count": 61,
   "id": "e27af2ba",
   "metadata": {},
   "outputs": [
    {
     "name": "stdout",
     "output_type": "stream",
     "text": [
      "       Nom   Age Ville  Naissance\n",
      "0    AMINE  28.0  Casa     1997.0\n",
      "2  YOUSSEF  35.0   Fès     1990.0\n",
      "3    SALMA  30.0  Casa     1995.0\n",
      "0      Casa\n",
      "1     Rabat\n",
      "2       Fès\n",
      "3      Casa\n",
      "4    Tanger\n",
      "Name: Ville, dtype: object\n",
      "       Nom   Age   Ville  Naissance\n",
      "0    AMINE  28.0    Casa     1997.0\n",
      "1     LINA  22.0   Rabat     2003.0\n",
      "2  YOUSSEF  35.0     Fès     1990.0\n",
      "3    SALMA  30.0    Casa     1995.0\n",
      "4     NORA   NaN  Tanger        NaN\n",
      "       Nom   Age   Ville  Naissance\n",
      "0    AMINE  28.0    Casa     1997.0\n",
      "1     LINA  22.0   Rabat     2003.0\n",
      "2  YOUSSEF  35.0     Fès     1990.0\n",
      "3    SALMA  30.0    Casa     1995.0\n",
      "4     NORA   NaN  Tanger        NaN\n",
      "       Nom   Age Localisation  Naissance\n",
      "0    AMINE  28.0         Casa     1997.0\n",
      "1     LINA  22.0        Rabat     2003.0\n",
      "2  YOUSSEF  35.0          Fès     1990.0\n",
      "3    SALMA  30.0         Casa     1995.0\n",
      "4     NORA   NaN       Tanger        NaN\n"
     ]
    }
   ],
   "source": [
    "print(df[df['Age'] > 25])\n",
    "print(df.Ville)\n",
    "df['Naissance']=2025-df.Age\n",
    "print(df)\n",
    "df['Nom']=df['Nom'].str.upper()\n",
    "print(df)\n",
    "df.rename(columns={'Ville':'Localisation'}, inplace=True)\n",
    "print(df)"
   ]
  },
  {
   "cell_type": "code",
   "execution_count": 72,
   "id": "7235ab9c",
   "metadata": {},
   "outputs": [
    {
     "name": "stdout",
     "output_type": "stream",
     "text": [
      "       Nom   Age   Ville\n",
      "0    Amine  28.0    Casa\n",
      "1     Lina  22.0   Rabat\n",
      "2  Youssef  35.0     Fès\n",
      "3    Salma  30.0    Casa\n",
      "4     Nora   NaN  Tanger\n",
      "Nom      0\n",
      "Age      1\n",
      "Ville    0\n",
      "dtype: int64\n",
      "       Nom    Age   Ville\n",
      "0    Amine  28.00    Casa\n",
      "1     Lina  22.00   Rabat\n",
      "2  Youssef  35.00     Fès\n",
      "3    Salma  30.00    Casa\n",
      "4     Nora  28.75  Tanger\n"
     ]
    }
   ],
   "source": [
    "df1= pd.DataFrame({'Nom':['Amine','Lina','Youssef','Salma','Nora'],'Age':[28,22,35,30,np.nan],'Ville':['Casa','Rabat','Fès','Casa','Tanger']})\n",
    "print(df1)\n",
    "print(df1.isnull().sum())\n",
    "\n",
    "df1['Age']=df1['Age'].fillna(df1['Age'].mean())\n",
    "print(df1)"
   ]
  }
 ],
 "metadata": {
  "kernelspec": {
   "display_name": "Python 3",
   "language": "python",
   "name": "python3"
  },
  "language_info": {
   "codemirror_mode": {
    "name": "ipython",
    "version": 3
   },
   "file_extension": ".py",
   "mimetype": "text/x-python",
   "name": "python",
   "nbconvert_exporter": "python",
   "pygments_lexer": "ipython3",
   "version": "3.13.3"
  }
 },
 "nbformat": 4,
 "nbformat_minor": 5
}
